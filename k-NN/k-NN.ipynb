{
 "cells": [
  {
   "cell_type": "code",
   "execution_count": 136,
   "metadata": {},
   "outputs": [],
   "source": [
    "import numpy as np\n",
    "from time import time\n",
    "from sklearn.model_selection import StratifiedKFold\n",
    "import matplotlib.pyplot as plt\n",
    "from math import pow, sqrt"
   ]
  },
  {
   "cell_type": "code",
   "execution_count": 137,
   "metadata": {},
   "outputs": [],
   "source": [
    "# Abrindo o conjunto de dados. Seperando os atributos e os rótulos de classe\n",
    "\n",
    "data = np.loadtxt(\"PC1.txt\", dtype='str', delimiter=',')\n",
    "\n",
    "dataX = data[:,:-1]\n",
    "dataX = dataX.astype(np.float)\n",
    "\n",
    "dataY = data[:,-1]"
   ]
  },
  {
   "cell_type": "code",
   "execution_count": 138,
   "metadata": {
    "scrolled": true
   },
   "outputs": [],
   "source": [
    "# Obtendo o range de cada atributo para torná-los igualmente relevantes no cálculo da distância euclidiana \n",
    "\n",
    "maxValues = list(map(max, zip(*dataX)))\n",
    "minValues = list(map(min, zip(*dataX)))\n",
    "\n",
    "rangeValues = []\n",
    "for i in range(len(maxValues)):\n",
    "    rangeValues.append(maxValues[i] - minValues[i])"
   ]
  },
  {
   "cell_type": "code",
   "execution_count": 139,
   "metadata": {},
   "outputs": [
    {
     "name": "stdout",
     "output_type": "stream",
     "text": [
      "Tempo de treinamento k-NN classico: 169.8677\n"
     ]
    }
   ],
   "source": [
    "# k-NN clássico\n",
    "\n",
    "startTest1 = time()\n",
    "\n",
    "skf = StratifiedKFold(n_splits=10)                        # Objeto que criará os 10 folds\n",
    "\n",
    "foldersHits1 = []                                      \n",
    "\n",
    "for train_index, test_index in skf.split(dataX, dataY):\n",
    "    \n",
    "    hits = np.zeros(16)                      # Vetor que armazena a quantidade de acerto para cada 1<=k<=15 neste fold, porém somente as células ímpares são usadas\n",
    "    \n",
    "    for i in test_index:                        # Para cada padrão de teste, faça:\n",
    "        allDist = []\n",
    "        \n",
    "        for j in train_index:                   # Calcule a distância do padrão de teste i para todos os de treinamento\n",
    "            dist = 0\n",
    "            \n",
    "            for l in range(dataX.shape[1]):                               # Percorrendo o valor de todos os atributos (.shape[1] retorna o número de colunas da matriz)\n",
    "                dist += pow((dataX[i,l] - dataX[j,l])/rangeValues[l],2)\n",
    "                \n",
    "            dist = sqrt(dist) \n",
    "            allDist.append([j, dist])                  # Vetor que armazena todas as distâncias em relação ao padrão de teste i\n",
    "            \n",
    "        allDist = sorted(allDist, key=lambda x: x[1])        # Ordenando do mais próximo pro mais distantes\n",
    "        \n",
    "        true = 0\n",
    "        for k in range(1,16):\n",
    "            if(dataY[allDist[k-1][0]] == \"true\"):              # Contagem das classes dos vizinhos mais próximos\n",
    "                true += 1\n",
    "        \n",
    "            if(k%2==1):                                   \n",
    "                if(true > k/2 and dataY[i] == \"true\"):    # Se o voto majoritário for true e a classe do padrão de teste for true\n",
    "                    hits[k] += 1\n",
    "                if(true < k/2 and dataY[i] == \"false\"):   # Se o voto majoritário for false e a classe do padrão de teste for false\n",
    "                    hits[k] += 1\n",
    "            \n",
    "    foldersHits1.append(hits)                     # Armazena os acertos para cada k nesse fold\n",
    "\n",
    "hitRate1 = np.sum(foldersHits1, axis=0)/dataX.shape[0]     # Soma os acertos de folds diferentes para um mesmo número de vizinhos e divide pela quantidade total de padrões\n",
    "\n",
    "finishTest1 = time()\n",
    "testTime1 = finishTest1 - startTest1\n",
    "print(\"Tempo de teste k-NN classico: %.4f\" %(testTime1))"
   ]
  },
  {
   "cell_type": "code",
   "execution_count": 152,
   "metadata": {
    "scrolled": true
   },
   "outputs": [
    {
     "data": {
      "image/png": "[encoded data removed]",
      "text/plain": [
       "<Figure size 432x288 with 1 Axes>"
      ]
     },
     "metadata": {
      "needs_background": "light"
     },
     "output_type": "display_data"
    }
   ],
   "source": [
    "# Plota o gráfico da taxa de acerto para o k-NN clássico\n",
    "\n",
    "fig = plt.figure()\n",
    "plt.scatter(range(1,16,2),hitRate1[hitRate1!=0])\n",
    "plt.grid(ls='--',color='gray',alpha=0.5)\n",
    "plt.xticks(range(1,16,2))\n",
    "plt.xlabel('k = nº de vizinhos')\n",
    "plt.ylabel('Taxa de acerto')\n",
    "plt.title('k-NN clássico')\n",
    "fig.savefig('taxaClassic.png')"
   ]
  },
  {
   "cell_type": "code",
   "execution_count": 142,
   "metadata": {},
   "outputs": [
    {
     "name": "stdout",
     "output_type": "stream",
     "text": [
      "Tempo de teste k-NN ponderado: 149.8436 s\n"
     ]
    }
   ],
   "source": [
    "# k-NN ponderado\n",
    "\n",
    "startTest2 = time()\n",
    "\n",
    "foldersHits2 = []\n",
    "\n",
    "for train_index, test_index in skf.split(dataX, dataY):\n",
    "    \n",
    "    hits = np.zeros(16)\n",
    "    \n",
    "    for i in test_index: \n",
    "        allDist = []\n",
    "        \n",
    "        for j in train_index:\n",
    "            dist = 0\n",
    "            \n",
    "            for l in range(dataX.shape[1]):\n",
    "                dist += pow((dataX[i,l] - dataX[j,l])/rangeValues[l],2)\n",
    "                \n",
    "            if(dist == 0):                  # Distâncias de valor 0 são substituídas por valores muito próximos de 0\n",
    "                dist = pow(10,-10)\n",
    "            else:\n",
    "                dist = sqrt(dist) \n",
    "                \n",
    "            allDist.append([j, dist])\n",
    "            \n",
    "        allDist = sorted(allDist, key=lambda x: x[1])\n",
    "        \n",
    "        true = 0\n",
    "        false = 0\n",
    "        for k in range(1,16):\n",
    "            if(dataY[allDist[k-1][0]] == \"true\"):     \n",
    "                true += 1/pow(allDist[k-1][1],2)         # A contribuição de cada vizinho mais próximo é ponderada pelo inverso do quadrado da distância\n",
    "            else:\n",
    "                false += 1/pow(allDist[k-1][1],2)\n",
    "        \n",
    "            if(k%2==1):\n",
    "                if(true > false and dataY[i] == \"true\"):\n",
    "                    hits[k] += 1\n",
    "                if(false > true and dataY[i] == \"false\"):\n",
    "                    hits[k] += 1\n",
    "            \n",
    "    foldersHits2.append(hits) \n",
    "    \n",
    "hitRate2 = np.sum(foldersHits2, axis=0)/dataX.shape[0]\n",
    "    \n",
    "finishTest2 = time()\n",
    "testTime2 = finishTest2 - startTest2\n",
    "print(\"Tempo de teste k-NN ponderado: %.4f s\" %(testTime2))"
   ]
  },
  {
   "cell_type": "code",
   "execution_count": 153,
   "metadata": {
    "scrolled": true
   },
   "outputs": [
    {
     "data": {
      "image/png": "[encoded data removed]",
      "text/plain": [
       "<Figure size 432x288 with 1 Axes>"
      ]
     },
     "metadata": {
      "needs_background": "light"
     },
     "output_type": "display_data"
    }
   ],
   "source": [
    "# Plota o gráfico da taxa de acerto para o k-NN ponderado\n",
    "\n",
    "fig = plt.figure()\n",
    "plt.scatter(range(1,16,2),hitRate2[hitRate2!=0])\n",
    "plt.grid(ls='--',color='gray',alpha=0.5)\n",
    "plt.xticks(range(1,16,2))\n",
    "plt.xlabel('k = nº de vizinhos')\n",
    "plt.ylabel('Taxa de acerto')\n",
    "plt.title('k-NN ponderado')\n",
    "fig.savefig('taxaPond.png')"
   ]
  },
  {
   "cell_type": "code",
   "execution_count": 144,
   "metadata": {},
   "outputs": [
    {
     "name": "stdout",
     "output_type": "stream",
     "text": [
      "Tempo de treinamento k-NN adaptativo: 256.5167 s\n",
      "Tempo de teste k-NN adaptativo: 158.3471 s\n"
     ]
    }
   ],
   "source": [
    "# k-NN adaptativo\n",
    "\n",
    "totalTrainTime3 = 0\n",
    "totalTestTime3 = 0\n",
    "\n",
    "foldersHits3 = []\n",
    "radiusValues = np.zeros(dataX.shape[0])                # Armazenará o raio de cada padrão de treinamento (.shape[1] retorna o número de linhas da matriz)\n",
    "\n",
    "for train_index, test_index in skf.split(dataX, dataY):\n",
    "    \n",
    "    hits = np.zeros(16)\n",
    "    startTrain3 = time()\n",
    "    \n",
    "    for m in train_index:                             # Para todos os padrões de treinamento, faça:\n",
    "        littlestRadius = 1\n",
    "        \n",
    "        for n in train_index:\n",
    "            if(dataY[m] != dataY[n]):                  # Se os padrões de treinamento forem de classes distintas\n",
    "            \n",
    "                dist = 0\n",
    "                for o in range(dataX.shape[1]):\n",
    "                    dist += pow((dataX[m,o] - dataX[n,o])/rangeValues[o],2)\n",
    "                \n",
    "                if(dist < littlestRadius):          # Se o raio calculado for o menor de todos até o momento\n",
    "                    littlestRadius = dist\n",
    "                    \n",
    "        if(littlestRadius == 0):                    # Se o raio tiver valor 0, substitui por um valor muito próximo de 0\n",
    "            radiusValues[m] = pow(10,-10)\n",
    "        else:\n",
    "            radiusValues[m] = littlestRadius\n",
    "    \n",
    "    finishTrain3 = time()\n",
    "    totalTrainTime3 += finishTrain3 - startTrain3      # Tempo total de treinamento, acumulando para cada fold\n",
    "    \n",
    "    startTest3 = time()\n",
    "    \n",
    "    for i in test_index:\n",
    "        allDist = []\n",
    "        \n",
    "        for j in train_index:\n",
    "            dist = 0\n",
    "            \n",
    "            for l in range(dataX.shape[1]):\n",
    "                dist += pow((dataX[i,l] - dataX[j,l])/rangeValues[l],2)\n",
    "                \n",
    "            dist = sqrt(dist)/radiusValues[j]                  # Dividindo a distância euclidiana pelo raio correspondente\n",
    "            allDist.append([j, dist])\n",
    "            \n",
    "        allDist = sorted(allDist, key=lambda x: x[1])\n",
    "        \n",
    "        true = 0\n",
    "        for k in range(1,16):\n",
    "            if(dataY[allDist[k-1][0]] == \"true\"):\n",
    "                true += 1\n",
    "        \n",
    "            if(k%2==1):\n",
    "                if(true > k/2 and dataY[i] == \"true\"):\n",
    "                    hits[k] += 1\n",
    "                if(true < k/2 and dataY[i] == \"false\"):\n",
    "                    hits[k] += 1\n",
    "            \n",
    "    foldersHits3.append(hits) \n",
    "    \n",
    "    finishTest3 = time()\n",
    "    totalTestTime3 += finishTest3 - startTest3 \n",
    "\n",
    "hitRate3 = np.sum(foldersHits3, axis=0)/dataX.shape[0]    \n",
    "    \n",
    "print(\"Tempo de treinamento k-NN adaptativo: %.4f s\" %(totalTrainTime3))\n",
    "print(\"Tempo de teste k-NN adaptativo: %.4f s\" %(totalTestTime3))"
   ]
  },
  {
   "cell_type": "code",
   "execution_count": 145,
   "metadata": {},
   "outputs": [
    {
     "data": {
      "image/png": "[encoded data removed]",
      "text/plain": [
       "<Figure size 432x288 with 1 Axes>"
      ]
     },
     "metadata": {
      "needs_background": "light"
     },
     "output_type": "display_data"
    }
   ],
   "source": [
    "# Plota o gráfico da taxa de acerto para o k-NN adaptativo\n",
    "\n",
    "fig = plt.figure()\n",
    "plt.scatter(range(1,16,2),hitRate3[hitRate3!=0])\n",
    "plt.grid(ls='--',color='gray',alpha=0.5)\n",
    "plt.xticks(range(1,16,2))\n",
    "plt.xlabel('k = nº de vizinhos')\n",
    "plt.ylabel('Taxa de acerto')\n",
    "plt.title('k-NN adaptativo')\n",
    "fig.savefig('taxaAdap.png')"
   ]
  },
  {
   "cell_type": "code",
   "execution_count": 150,
   "metadata": {},
   "outputs": [
    {
     "data": {
      "image/png": "[encoded data removed]",
      "text/plain": [
       "<Figure size 432x288 with 1 Axes>"
      ]
     },
     "metadata": {
      "needs_background": "light"
     },
     "output_type": "display_data"
    }
   ],
   "source": [
    "fig = plt.figure()\n",
    "plt.scatter(range(1,16,2),hitRate3[hitRate3!=0])\n",
    "plt.grid(ls='--',color='gray',alpha=0.5)\n",
    "plt.xticks(range(1,16,2))\n",
    "plt.xlabel('k = nº de vizinhos')\n",
    "plt.ylabel('Taxa de acerto')\n",
    "plt.title('k-NN adaptativo')\n",
    "fig.savefig('taxaAdap.png')"
   ]
  },
  {
   "cell_type": "code",
   "execution_count": null,
   "metadata": {},
   "outputs": [],
   "source": []
  }
 ],
 "metadata": {
  "kernelspec": {
   "display_name": "Python 3",
   "language": "python",
   "name": "python3"
  },
  "language_info": {
   "codemirror_mode": {
    "name": "ipython",
    "version": 3
   },
   "file_extension": ".py",
   "mimetype": "text/x-python",
   "name": "python",
   "nbconvert_exporter": "python",
   "pygments_lexer": "ipython3",
   "version": "3.7.3"
  }
 },
 "nbformat": 4,
 "nbformat_minor": 2
}
